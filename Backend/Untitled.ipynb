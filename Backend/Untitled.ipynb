{
 "cells": [
  {
   "cell_type": "code",
   "execution_count": 1,
   "id": "e2d9e44a",
   "metadata": {},
   "outputs": [],
   "source": [
    "import location"
   ]
  },
  {
   "cell_type": "code",
   "execution_count": 5,
   "id": "3cc81bfe",
   "metadata": {},
   "outputs": [
    {
     "name": "stdout",
     "output_type": "stream",
     "text": [
      "Good Style Shop\n",
      "Upshift\n",
      "A Woman's Touch\n",
      "Forward Madison FC Club Shop\n",
      "Monirose - Bespoke Gowns\n",
      "Alumni Boardshop\n",
      "Lev Apparel\n",
      "Pikku Takki, LLC\n",
      "Change Boutique\n",
      "Shopbop\n",
      "St. Vincent De Paul Store\n"
     ]
    }
   ],
   "source": [
    "a = location.locationFeatureDriver(\"1 N Randall Ave, Madison, WI 53715\", [\"clothes\"])\n",
    "for i in a:\n",
    "    print(i[0])"
   ]
  }
 ],
 "metadata": {
  "kernelspec": {
   "display_name": "Python 3",
   "language": "python",
   "name": "python3"
  },
  "language_info": {
   "codemirror_mode": {
    "name": "ipython",
    "version": 3
   },
   "file_extension": ".py",
   "mimetype": "text/x-python",
   "name": "python",
   "nbconvert_exporter": "python",
   "pygments_lexer": "ipython3",
   "version": "3.8.8"
  }
 },
 "nbformat": 4,
 "nbformat_minor": 5
}
